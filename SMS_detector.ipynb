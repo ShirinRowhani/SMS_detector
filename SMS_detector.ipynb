{
  "cells": [
    {
      "metadata": {
        "_uuid": "8f2839f25d086af736a60e9eeb907d3b93b6e0e5",
        "_cell_guid": "b1076dfc-b9ad-4769-8c92-a6c4dae69d19",
        "trusted": true
      },
      "cell_type": "code",
      "source": "import nltk",
      "execution_count": 1,
      "outputs": [
        {
          "output_type": "stream",
          "text": "/opt/conda/lib/python3.6/site-packages/sklearn/externals/_arff.py:204: DeprecationWarning: Flags not at the start of the expression '(?x)\\n        ,      ' (truncated)\n  ''' % {'value_re': value_re})\n/opt/conda/lib/python3.6/site-packages/sklearn/externals/_arff.py:204: DeprecationWarning: Flags not at the start of the expression '(?x)\\n        ,      ' (truncated)\n  ''' % {'value_re': value_re})\n/opt/conda/lib/python3.6/site-packages/sklearn/externals/_arff.py:204: DeprecationWarning: Flags not at the start of the expression '(?x)\\n        ,      ' (truncated)\n  ''' % {'value_re': value_re})\n/opt/conda/lib/python3.6/site-packages/sklearn/externals/_arff.py:219: DeprecationWarning: Flags not at the start of the expression '(?x)\\n        (?:^\\\\s*' (truncated)\n  ''' % {'value_re': value_re})\n/opt/conda/lib/python3.6/site-packages/sklearn/externals/_arff.py:219: DeprecationWarning: Flags not at the start of the expression '(?x)\\n        (?:^\\\\s*' (truncated)\n  ''' % {'value_re': value_re})\n/opt/conda/lib/python3.6/site-packages/sklearn/externals/_arff.py:219: DeprecationWarning: Flags not at the start of the expression '(?x)\\n        (?:^\\\\s*' (truncated)\n  ''' % {'value_re': value_re})\n",
          "name": "stderr"
        }
      ]
    },
    {
      "metadata": {
        "_cell_guid": "79c7e3d0-c299-4dcb-8224-4455121ee9b0",
        "_uuid": "d629ff2d2480ee46fbb7e2d37f6b5fab8052498a",
        "trusted": true
      },
      "cell_type": "code",
      "source": "#nltk.download_shell()",
      "execution_count": 2,
      "outputs": []
    },
    {
      "metadata": {
        "trusted": true,
        "_uuid": "a931009426afeeb961d1c19b7ee4ec4243b608a8"
      },
      "cell_type": "code",
      "source": "messages= [line.rstrip()for line in open('../input/spam.csv',encoding = \"ISO-8859-1\")]",
      "execution_count": 18,
      "outputs": []
    },
    {
      "metadata": {
        "trusted": true,
        "_uuid": "3b9afa1f1551e5bd468de0243403cd7527b466e8"
      },
      "cell_type": "code",
      "source": "print(len(messages))",
      "execution_count": 5,
      "outputs": [
        {
          "output_type": "stream",
          "text": "5575\n",
          "name": "stdout"
        }
      ]
    },
    {
      "metadata": {
        "trusted": true,
        "_uuid": "8576dc70a625a9c5468e74b2422d8289fa7f450c"
      },
      "cell_type": "code",
      "source": "messages[0]      ",
      "execution_count": 22,
      "outputs": [
        {
          "output_type": "execute_result",
          "execution_count": 22,
          "data": {
            "text/plain": "'v1,v2,,,'"
          },
          "metadata": {}
        }
      ]
    },
    {
      "metadata": {
        "trusted": true,
        "_uuid": "d7aa724fb26e5765fe5b13bc47883b47bd96b512"
      },
      "cell_type": "code",
      "source": "for message_no, message in enumerate(messages[1:11]):\n    print(message_no,message)\n    print('\\n')",
      "execution_count": 19,
      "outputs": [
        {
          "output_type": "stream",
          "text": "0 ham,\"Go until jurong point, crazy.. Available only in bugis n great world la e buffet... Cine there got amore wat...\",,,\n\n\n1 ham,Ok lar... Joking wif u oni...,,,\n\n\n2 spam,Free entry in 2 a wkly comp to win FA Cup final tkts 21st May 2005. Text FA to 87121 to receive entry question(std txt rate)T&C's apply 08452810075over18's,,,\n\n\n3 ham,U dun say so early hor... U c already then say...,,,\n\n\n4 ham,\"Nah I don't think he goes to usf, he lives around here though\",,,\n\n\n5 spam,\"FreeMsg Hey there darling it's been 3 week's now and no word back! I'd like some fun you up for it still? Tb ok! XxX std chgs to send, å£1.50 to rcv\",,,\n\n\n6 ham,Even my brother is not like to speak with me. They treat me like aids patent.,,,\n\n\n7 ham,As per your request 'Melle Melle (Oru Minnaminunginte Nurungu Vettam)' has been set as your callertune for all Callers. Press *9 to copy your friends Callertune,,,\n\n\n8 spam,WINNER!! As a valued network customer you have been selected to receivea å£900 prize reward! To claim call 09061701461. Claim code KL341. Valid 12 hours only.,,,\n\n\n9 spam,Had your mobile 11 months or more? U R entitled to Update to the latest colour mobiles with camera for Free! Call The Mobile Update Co FREE on 08002986030,,,\n\n\n",
          "name": "stdout"
        }
      ]
    },
    {
      "metadata": {
        "trusted": true,
        "_uuid": "f216632471ff7a792f07ca7dcc7252f574a81268"
      },
      "cell_type": "code",
      "source": "import pandas as pd",
      "execution_count": 23,
      "outputs": []
    },
    {
      "metadata": {
        "trusted": true,
        "_uuid": "d50767d7e7f1354156b74945291d8fb8e2d34bf9"
      },
      "cell_type": "code",
      "source": "col=['v1','v2']\nmessages= pd.read_csv('../input/spam.csv', encoding = \"ISO-8859-1\", usecols=col)\nmessages.columns=['label', 'message']",
      "execution_count": 40,
      "outputs": []
    },
    {
      "metadata": {
        "trusted": true,
        "_uuid": "3edd57d0ca6988f0f496a382ca85db4264a5ee81"
      },
      "cell_type": "code",
      "source": "messages.head()",
      "execution_count": 41,
      "outputs": [
        {
          "output_type": "execute_result",
          "execution_count": 41,
          "data": {
            "text/plain": "  label                                            message\n0   ham  Go until jurong point, crazy.. Available only ...\n1   ham                      Ok lar... Joking wif u oni...\n2  spam  Free entry in 2 a wkly comp to win FA Cup fina...\n3   ham  U dun say so early hor... U c already then say...\n4   ham  Nah I don't think he goes to usf, he lives aro...",
            "text/html": "<div>\n<style scoped>\n    .dataframe tbody tr th:only-of-type {\n        vertical-align: middle;\n    }\n\n    .dataframe tbody tr th {\n        vertical-align: top;\n    }\n\n    .dataframe thead th {\n        text-align: right;\n    }\n</style>\n<table border=\"1\" class=\"dataframe\">\n  <thead>\n    <tr style=\"text-align: right;\">\n      <th></th>\n      <th>label</th>\n      <th>message</th>\n    </tr>\n  </thead>\n  <tbody>\n    <tr>\n      <th>0</th>\n      <td>ham</td>\n      <td>Go until jurong point, crazy.. Available only ...</td>\n    </tr>\n    <tr>\n      <th>1</th>\n      <td>ham</td>\n      <td>Ok lar... Joking wif u oni...</td>\n    </tr>\n    <tr>\n      <th>2</th>\n      <td>spam</td>\n      <td>Free entry in 2 a wkly comp to win FA Cup fina...</td>\n    </tr>\n    <tr>\n      <th>3</th>\n      <td>ham</td>\n      <td>U dun say so early hor... U c already then say...</td>\n    </tr>\n    <tr>\n      <th>4</th>\n      <td>ham</td>\n      <td>Nah I don't think he goes to usf, he lives aro...</td>\n    </tr>\n  </tbody>\n</table>\n</div>"
          },
          "metadata": {}
        }
      ]
    },
    {
      "metadata": {
        "trusted": true,
        "_uuid": "fb20ee148209b11b748aff8f96ad47dd883e162d"
      },
      "cell_type": "code",
      "source": "messages.describe()",
      "execution_count": 42,
      "outputs": [
        {
          "output_type": "execute_result",
          "execution_count": 42,
          "data": {
            "text/plain": "       label                 message\ncount   5572                    5572\nunique     2                    5169\ntop      ham  Sorry, I'll call later\nfreq    4825                      30",
            "text/html": "<div>\n<style scoped>\n    .dataframe tbody tr th:only-of-type {\n        vertical-align: middle;\n    }\n\n    .dataframe tbody tr th {\n        vertical-align: top;\n    }\n\n    .dataframe thead th {\n        text-align: right;\n    }\n</style>\n<table border=\"1\" class=\"dataframe\">\n  <thead>\n    <tr style=\"text-align: right;\">\n      <th></th>\n      <th>label</th>\n      <th>message</th>\n    </tr>\n  </thead>\n  <tbody>\n    <tr>\n      <th>count</th>\n      <td>5572</td>\n      <td>5572</td>\n    </tr>\n    <tr>\n      <th>unique</th>\n      <td>2</td>\n      <td>5169</td>\n    </tr>\n    <tr>\n      <th>top</th>\n      <td>ham</td>\n      <td>Sorry, I'll call later</td>\n    </tr>\n    <tr>\n      <th>freq</th>\n      <td>4825</td>\n      <td>30</td>\n    </tr>\n  </tbody>\n</table>\n</div>"
          },
          "metadata": {}
        }
      ]
    },
    {
      "metadata": {
        "trusted": true,
        "_uuid": "e3822b7ad9d35f2862d867593bff755cebe79328"
      },
      "cell_type": "code",
      "source": "messages.groupby('label').describe()",
      "execution_count": 43,
      "outputs": [
        {
          "output_type": "execute_result",
          "execution_count": 43,
          "data": {
            "text/plain": "      message ...      \n        count ...  freq\nlabel         ...      \nham      4825 ...    30\nspam      747 ...     4\n\n[2 rows x 4 columns]",
            "text/html": "<div>\n<style scoped>\n    .dataframe tbody tr th:only-of-type {\n        vertical-align: middle;\n    }\n\n    .dataframe tbody tr th {\n        vertical-align: top;\n    }\n\n    .dataframe thead tr th {\n        text-align: left;\n    }\n\n    .dataframe thead tr:last-of-type th {\n        text-align: right;\n    }\n</style>\n<table border=\"1\" class=\"dataframe\">\n  <thead>\n    <tr>\n      <th></th>\n      <th colspan=\"4\" halign=\"left\">message</th>\n    </tr>\n    <tr>\n      <th></th>\n      <th>count</th>\n      <th>unique</th>\n      <th>top</th>\n      <th>freq</th>\n    </tr>\n    <tr>\n      <th>label</th>\n      <th></th>\n      <th></th>\n      <th></th>\n      <th></th>\n    </tr>\n  </thead>\n  <tbody>\n    <tr>\n      <th>ham</th>\n      <td>4825</td>\n      <td>4516</td>\n      <td>Sorry, I'll call later</td>\n      <td>30</td>\n    </tr>\n    <tr>\n      <th>spam</th>\n      <td>747</td>\n      <td>653</td>\n      <td>Please call our customer service representativ...</td>\n      <td>4</td>\n    </tr>\n  </tbody>\n</table>\n</div>"
          },
          "metadata": {}
        }
      ]
    },
    {
      "metadata": {
        "trusted": true,
        "_uuid": "3994fcccb15ee5fcbeb8b7f50d7cb827ff5242a3"
      },
      "cell_type": "code",
      "source": "messages['length']=messages['message'].apply(len)",
      "execution_count": 44,
      "outputs": []
    },
    {
      "metadata": {
        "trusted": true,
        "_uuid": "af6527722d98fee14148ecc1fc53db596991545c"
      },
      "cell_type": "code",
      "source": "messages.head()",
      "execution_count": 45,
      "outputs": [
        {
          "output_type": "execute_result",
          "execution_count": 45,
          "data": {
            "text/plain": "  label                                            message  length\n0   ham  Go until jurong point, crazy.. Available only ...     111\n1   ham                      Ok lar... Joking wif u oni...      29\n2  spam  Free entry in 2 a wkly comp to win FA Cup fina...     155\n3   ham  U dun say so early hor... U c already then say...      49\n4   ham  Nah I don't think he goes to usf, he lives aro...      61",
            "text/html": "<div>\n<style scoped>\n    .dataframe tbody tr th:only-of-type {\n        vertical-align: middle;\n    }\n\n    .dataframe tbody tr th {\n        vertical-align: top;\n    }\n\n    .dataframe thead th {\n        text-align: right;\n    }\n</style>\n<table border=\"1\" class=\"dataframe\">\n  <thead>\n    <tr style=\"text-align: right;\">\n      <th></th>\n      <th>label</th>\n      <th>message</th>\n      <th>length</th>\n    </tr>\n  </thead>\n  <tbody>\n    <tr>\n      <th>0</th>\n      <td>ham</td>\n      <td>Go until jurong point, crazy.. Available only ...</td>\n      <td>111</td>\n    </tr>\n    <tr>\n      <th>1</th>\n      <td>ham</td>\n      <td>Ok lar... Joking wif u oni...</td>\n      <td>29</td>\n    </tr>\n    <tr>\n      <th>2</th>\n      <td>spam</td>\n      <td>Free entry in 2 a wkly comp to win FA Cup fina...</td>\n      <td>155</td>\n    </tr>\n    <tr>\n      <th>3</th>\n      <td>ham</td>\n      <td>U dun say so early hor... U c already then say...</td>\n      <td>49</td>\n    </tr>\n    <tr>\n      <th>4</th>\n      <td>ham</td>\n      <td>Nah I don't think he goes to usf, he lives aro...</td>\n      <td>61</td>\n    </tr>\n  </tbody>\n</table>\n</div>"
          },
          "metadata": {}
        }
      ]
    },
    {
      "metadata": {
        "trusted": true,
        "_uuid": "5e7ebaa8af65e5002a9e08e2c2c515932af20078"
      },
      "cell_type": "code",
      "source": "import matplotlib.pyplot as plt\nimport seaborn as sns\n%matplotlib inline",
      "execution_count": 46,
      "outputs": []
    },
    {
      "metadata": {
        "trusted": true,
        "_uuid": "e2082aaedeaff96b76b44fde076a3eee993ad68c"
      },
      "cell_type": "code",
      "source": "messages['length'].plot.hist(bins=50)",
      "execution_count": 49,
      "outputs": [
        {
          "output_type": "execute_result",
          "execution_count": 49,
          "data": {
            "text/plain": "<matplotlib.axes._subplots.AxesSubplot at 0x7f105589db70>"
          },
          "metadata": {}
        },
        {
          "output_type": "display_data",
          "data": {
            "text/plain": "<Figure size 432x288 with 1 Axes>",
            "image/png": "[encoded data removed]"
          },
          "metadata": {}
        }
      ]
    },
    {
      "metadata": {
        "trusted": true,
        "_uuid": "91ed007beba51c8b97eb26cf1942514611a3f0e2"
      },
      "cell_type": "code",
      "source": "messages['length'].describe()",
      "execution_count": 50,
      "outputs": [
        {
          "output_type": "execute_result",
          "execution_count": 50,
          "data": {
            "text/plain": "count    5572.000000\nmean       80.118808\nstd        59.690841\nmin         2.000000\n25%        36.000000\n50%        61.000000\n75%       121.000000\nmax       910.000000\nName: length, dtype: float64"
          },
          "metadata": {}
        }
      ]
    },
    {
      "metadata": {
        "trusted": true,
        "_uuid": "9c1d4a01e35458c90b881529f9b007d2a62478d8"
      },
      "cell_type": "code",
      "source": "messages[messages['length']==910]['message'].iloc[0]",
      "execution_count": 54,
      "outputs": [
        {
          "output_type": "execute_result",
          "execution_count": 54,
          "data": {
            "text/plain": "\"For me the love should start with attraction.i should feel that I need her every time around me.she should be the first thing which comes in my thoughts.I would start the day and end it with her.she should be there every time I dream.love will be then when my every breath has her name.my life should happen around her.my life will be named to her.I would cry for her.will give all my happiness and take all her sorrows.I will be ready to fight with anyone for her.I will be in love when I will be doing the craziest things for her.love will be when I don't have to proove anyone that my girl is the most beautiful lady on the whole planet.I will always be singing praises for her.love will be when I start up making chicken curry and end up makiing sambar.life will be the most beautiful then.will get every morning and thank god for the day because she is with me.I would like to say a lot..will tell later..\""
          },
          "metadata": {}
        }
      ]
    },
    {
      "metadata": {
        "trusted": true,
        "_uuid": "f0c87bc5ad1027350f348c791030affe04e81bdf"
      },
      "cell_type": "code",
      "source": "messages.hist(column='length', by= 'label', bins=50, figsize=(12,4))",
      "execution_count": 55,
      "outputs": [
        {
          "output_type": "execute_result",
          "execution_count": 55,
          "data": {
            "text/plain": "array([<matplotlib.axes._subplots.AxesSubplot object at 0x7f1043f755f8>,\n       <matplotlib.axes._subplots.AxesSubplot object at 0x7f1043f2e438>],\n      dtype=object)"
          },
          "metadata": {}
        },
        {
          "output_type": "display_data",
          "data": {
            "text/plain": "<Figure size 864x288 with 2 Axes>",
            "image/png": "[encoded data removed]"
          },
          "metadata": {}
        }
      ]
    },
    {
      "metadata": {
        "_uuid": "e7348b35325149070c2cf3d17a8cef4dca60db95"
      },
      "cell_type": "markdown",
      "source": "## Preprocessing"
    },
    {
      "metadata": {
        "trusted": true,
        "_uuid": "eecb7a44ee88a8e17ce1f05f11b870919e299231"
      },
      "cell_type": "code",
      "source": "import string\nfrom nltk.corpus import stopwords",
      "execution_count": 66,
      "outputs": []
    },
    {
      "metadata": {
        "trusted": true,
        "_uuid": "10d47ba2eed8b03c270d046666514202aba8daa0"
      },
      "cell_type": "code",
      "source": "def text_process(mess):\n    \"\"\"\n    1. remove punctuation\n    2. remove stopwords\n    3. return list of clean text words\n    \"\"\"\n    nopunc= [char for char in mess if char not in string.punctuation]\n    nopunc=''.join(nopunc)\n    return [word for word in nopunc.split() if word.lower() not in stopwords.words('english')]",
      "execution_count": 67,
      "outputs": []
    },
    {
      "metadata": {
        "_uuid": "b0d7daf6ecaeff67c0f7475753e32aa4039f7755"
      },
      "cell_type": "markdown",
      "source": "## Pipeline & Model"
    },
    {
      "metadata": {
        "trusted": true,
        "_uuid": "3841822e7dd6f25a17bc76dfa80c263528fbbcaa"
      },
      "cell_type": "code",
      "source": "from sklearn.feature_extraction.text import CountVectorizer\nfrom sklearn.feature_extraction.text import TfidfTransformer\nfrom sklearn.naive_bayes import MultinomialNB\nfrom sklearn.model_selection import train_test_split",
      "execution_count": 79,
      "outputs": []
    },
    {
      "metadata": {
        "trusted": true,
        "_uuid": "c60530a9756648b1e4c451d0bfc4a4e149107b6e"
      },
      "cell_type": "code",
      "source": "msg_train,msg_test,label_train,label_test = train_test_split(messages['message'], messages['label'], test_size=0.3)",
      "execution_count": 80,
      "outputs": []
    },
    {
      "metadata": {
        "trusted": true,
        "_uuid": "57b06342bb74c03a0d8866de458d43229ebb8c98"
      },
      "cell_type": "code",
      "source": "from sklearn.pipeline import Pipeline\npipeline= Pipeline([\n    ('bow', CountVectorizer(analyzer=text_process)),\n    ('tfidf', TfidfTransformer()),\n    ('classifier', MultinomialNB())\n])",
      "execution_count": 83,
      "outputs": []
    },
    {
      "metadata": {
        "trusted": true,
        "_uuid": "b26b1a2d2b22435ab6cc8847b2f9b3254505dd6d"
      },
      "cell_type": "code",
      "source": "pipeline.fit(msg_train,label_train)",
      "execution_count": 84,
      "outputs": [
        {
          "output_type": "execute_result",
          "execution_count": 84,
          "data": {
            "text/plain": "Pipeline(memory=None,\n     steps=[('bow', CountVectorizer(analyzer=<function text_process at 0x7f1043d88158>,\n        binary=False, decode_error='strict', dtype=<class 'numpy.int64'>,\n        encoding='utf-8', input='content', lowercase=True, max_df=1.0,\n        max_features=None, min_df=1, ngram_range=(1, 1), preprocessor=No...f=False, use_idf=True)), ('classifier', MultinomialNB(alpha=1.0, class_prior=None, fit_prior=True))])"
          },
          "metadata": {}
        }
      ]
    },
    {
      "metadata": {
        "trusted": true,
        "_uuid": "74aff79a4308ad1f71a4b1214fc42a42509cbc7b"
      },
      "cell_type": "code",
      "source": "predictions= pipeline.predict(msg_test)",
      "execution_count": 85,
      "outputs": []
    },
    {
      "metadata": {
        "trusted": true,
        "_uuid": "2290047e72bb8880312d274b592f4614479ba138"
      },
      "cell_type": "code",
      "source": "from sklearn.metrics import classification_report",
      "execution_count": 86,
      "outputs": []
    },
    {
      "metadata": {
        "trusted": true,
        "_uuid": "4c9bd1e779e7211663ab335dc88fe7ef154d0ac7"
      },
      "cell_type": "code",
      "source": "print(classification_report(label_test,predictions))",
      "execution_count": 87,
      "outputs": [
        {
          "output_type": "stream",
          "text": "              precision    recall  f1-score   support\n\n         ham       0.95      1.00      0.97      1421\n        spam       1.00      0.69      0.82       251\n\n   micro avg       0.95      0.95      0.95      1672\n   macro avg       0.97      0.84      0.89      1672\nweighted avg       0.96      0.95      0.95      1672\n\n",
          "name": "stdout"
        }
      ]
    },
    {
      "metadata": {
        "trusted": true,
        "_uuid": "6d2bf56a672d435694f4aa42fc54fc323772d80b"
      },
      "cell_type": "code",
      "source": "",
      "execution_count": null,
      "outputs": []
    }
  ],
  "metadata": {
    "kernelspec": {
      "display_name": "Python 3",
      "language": "python",
      "name": "python3"
    },
    "language_info": {
      "name": "python",
      "version": "3.6.6",
      "mimetype": "text/x-python",
      "codemirror_mode": {
        "name": "ipython",
        "version": 3
      },
      "pygments_lexer": "ipython3",
      "nbconvert_exporter": "python",
      "file_extension": ".py"
    }
  },
  "nbformat": 4,
  "nbformat_minor": 1
}